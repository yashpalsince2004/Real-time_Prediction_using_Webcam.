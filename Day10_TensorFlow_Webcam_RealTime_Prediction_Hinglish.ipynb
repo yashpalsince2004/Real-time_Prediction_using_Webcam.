{
 "cells": [
  {
   "cell_type": "markdown",
   "metadata": {},
   "source": [
    "# 🎥 Day 10: Real-time Prediction using Webcam (Hinglish)\n",
    "Aaj hum webcam se image capture karenge aur trained model ka use karke prediction karenge real-time mein!"
   ]
  },
  {
   "cell_type": "markdown",
   "metadata": {},
   "source": [
    "## ⚙️ Required Libraries\n",
    "- `opencv-python`\n",
    "- `tensorflow`\n",
    "Install command:\n",
    "```bash\n",
    "pip install opencv-python tensorflow\n",
    "```"
   ]
  },
  {
   "cell_type": "markdown",
   "metadata": {},
   "source": [
    "## 🔮 Real-time Prediction Code\n",
    "- Webcam se frame capture karo\n",
    "- ROI (Region of Interest) crop karo\n",
    "- Grayscale → Resize → Normalize → Reshape\n",
    "- Model se predict karo\n",
    "- Result dikhaye screen pe"
   ]
  },
  {
   "cell_type": "code",
   "execution_count": null,
   "metadata": {},
   "outputs": [],
   "source": [
    "import cv2\n",
    "import numpy as np\n",
    "from tensorflow.keras.models import load_model\n",
    "\n",
    "# Load trained model\n",
    "model = load_model(\"mnist_cnn_model.h5\")  # change this if using other model\n",
    "\n",
    "# Digits ke class names\n",
    "class_names = [str(i) for i in range(10)]  # For MNIST\n",
    "\n",
    "# Start webcam\n",
    "cap = cv2.VideoCapture(0)\n",
    "\n",
    "while True:\n",
    "    ret, frame = cap.read()\n",
    "    if not ret:\n",
    "        break\n",
    "\n",
    "    # Select region of interest\n",
    "    roi = frame[100:300, 100:300]  # central box\n",
    "    gray = cv2.cvtColor(roi, cv2.COLOR_BGR2GRAY)\n",
    "    img = cv2.resize(gray, (28, 28))\n",
    "    img = 255 - img  # invert image\n",
    "    img = img / 255.0  # normalize\n",
    "    img = img.reshape(1, 28, 28, 1)\n",
    "\n",
    "    # Predict\n",
    "    pred = model.predict(img)\n",
    "    predicted_class = np.argmax(pred)\n",
    "\n",
    "    # Draw rectangle and prediction text\n",
    "    cv2.rectangle(frame, (100, 100), (300, 300), (0, 255, 0), 2)\n",
    "    cv2.putText(frame, f'Predicted: {class_names[predicted_class]}',\n",
    "                (100, 90), cv2.FONT_HERSHEY_SIMPLEX, 1, (0, 255, 255), 2)\n",
    "\n",
    "    # Show frame\n",
    "    cv2.imshow(\"Webcam Real-time Prediction\", frame)\n",
    "\n",
    "    if cv2.waitKey(1) & 0xFF == ord('q'):\n",
    "        break\n",
    "\n",
    "cap.release()\n",
    "cv2.destroyAllWindows()"
   ]
  }
 ],
 "metadata": {
  "kernelspec": {
   "display_name": "Python 3",
   "language": "python",
   "name": "python3"
  },
  "language_info": {
   "name": "python",
   "version": "3.x"
  }
 },
 "nbformat": 4,
 "nbformat_minor": 5
}
